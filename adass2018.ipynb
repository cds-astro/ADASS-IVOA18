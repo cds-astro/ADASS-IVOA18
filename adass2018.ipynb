{
 "cells": [
  {
   "cell_type": "markdown",
   "metadata": {},
   "source": [
    "# Programmatic use of MOCs in Python"
   ]
  },
  {
   "cell_type": "code",
   "execution_count": null,
   "metadata": {},
   "outputs": [],
   "source": [
    "%matplotlib inline\n",
    "\n",
    "import warnings\n",
    "warnings.filterwarnings('ignore')\n",
    "\n",
    "import math"
   ]
  },
  {
   "cell_type": "markdown",
   "metadata": {},
   "source": [
    "## Retrieving the various MOCs"
   ]
  },
  {
   "cell_type": "code",
   "execution_count": null,
   "metadata": {},
   "outputs": [],
   "source": [
    "from astroquery.cds import cds\n",
    "from mocpy import MOC"
   ]
  },
  {
   "cell_type": "code",
   "execution_count": null,
   "metadata": {},
   "outputs": [],
   "source": [
    "isophot = MOC.from_url('http://cds.unistra.fr/adass2018/ISOPHOTHiPS/Moc.fits')"
   ]
  },
  {
   "cell_type": "markdown",
   "metadata": {},
   "source": [
    "`isophot` contains the MOC associated to the ISOPHOT HiPS we have generated."
   ]
  },
  {
   "cell_type": "code",
   "execution_count": null,
   "metadata": {},
   "outputs": [],
   "source": [
    "hstv = cds.find_datasets(\"ID=CDS/P/HST/V\", return_moc=True)\n",
    "galex = cds.find_datasets(\"ID=CDS/P/GALEXGR6/AIS/color\", return_moc=True)"
   ]
  },
  {
   "cell_type": "markdown",
   "metadata": {},
   "source": [
    "`hstv` and `galex` contain the MOCs retrieved from the CDS server. "
   ]
  },
  {
   "cell_type": "markdown",
   "metadata": {},
   "source": [
    "## Computing the intersection"
   ]
  },
  {
   "cell_type": "markdown",
   "metadata": {},
   "source": [
    "One can use these MOCs e.g. for computing their intersection. This will give us a new `mocpy.MOC` instance with the same HEALPix order as the best one (HST in our case)."
   ]
  },
  {
   "cell_type": "code",
   "execution_count": null,
   "metadata": {},
   "outputs": [],
   "source": [
    "moc = galex.intersection(hstv).intersection(isophot)\n",
    "moc.max_order"
   ]
  },
  {
   "cell_type": "markdown",
   "metadata": {},
   "source": [
    "The area of the intersection is available with `moc.sky_fraction` (converted below in square degrees)"
   ]
  },
  {
   "cell_type": "code",
   "execution_count": null,
   "metadata": {},
   "outputs": [],
   "source": [
    "moc.sky_fraction*360**2/math.pi"
   ]
  },
  {
   "cell_type": "markdown",
   "metadata": {},
   "source": [
    "## Visualization"
   ]
  },
  {
   "cell_type": "markdown",
   "metadata": {},
   "source": [
    "`mocpy.MOC` class has a `fill` method responsible for plotting the HEALPix cells of a MOC on a predefined `matplotlib` axe. This method accepts an `astropy.wcs.WCS` object along with a `matplotlib.axes.Axes` and some `matplotlib` style keyword arguments.\n",
    "\n",
    "The next cell of code will define a `matplotlib` context and use it for drawing the various MOCs along with their intersection MOC.\n"
   ]
  },
  {
   "cell_type": "code",
   "execution_count": null,
   "metadata": {},
   "outputs": [],
   "source": [
    "import matplotlib.pyplot as plt\n",
    "from mocpy import WCS\n",
    "import astropy.units as u\n",
    "from astropy.coordinates import SkyCoord, Angle\n",
    "# MOCPy offers a way to easily create an WCS focusing in a specific skycoord with a\n",
    "# FOV. The WCS class embeds internally a astropy.wcs.WCS object\n",
    "# This define an ICRS aitoff projection.\n",
    "fig = plt.figure(111, figsize=(15, 15))\n",
    "with WCS(fig,\n",
    "        fov=50 * u.deg,\n",
    "        center=SkyCoord(300, 35, unit='deg', frame='icrs'),\n",
    "        coordsys=\"icrs\",\n",
    "        rotation=Angle(0, u.degree),\n",
    "        projection=\"AIT\") as wcs:\n",
    "    # Create an mpl axe\n",
    "    ax = fig.add_subplot(1, 1, 1, projection=wcs)\n",
    "    # Calls to `mocpy.MOC.fill` for each of the three MOCs with various mpl styling keywords\n",
    "    # to differentiate them from each other.\n",
    "    galex.fill(ax=ax, wcs=wcs, edgecolor='g', facecolor='g', linewidth=1.0, fill=True, alpha=0.5, label='P/GALEXGR6/AIS/color')\n",
    "    isophot.fill(ax=ax, wcs=wcs, edgecolor='y', facecolor='y', linewidth=1.0, fill=True, alpha=0.5, label='ISOPHOT tutorial')\n",
    "    hstv.fill(ax=ax, wcs=wcs, edgecolor='r', facecolor='r', linewidth=1.0, fill=True, alpha=0.5, label='P/HST/V')\n",
    "    moc.fill(ax=ax, wcs=wcs, edgecolor='b', facecolor='b', linewidth=1.0, fill=True, alpha=0.5, label='intersection')\n",
    "\n",
    "\n",
    "plt.xlabel('ra')\n",
    "plt.ylabel('dec')\n",
    "plt.title('Several MOCs and their intersection')\n",
    "plt.grid(color=\"black\", linestyle=\"dotted\")\n",
    "plt.legend(loc='upper left')\n",
    "plt.show()\n",
    "plt.close()"
   ]
  },
  {
   "cell_type": "markdown",
   "metadata": {},
   "source": [
    "## Finding relevant catalogues"
   ]
  },
  {
   "cell_type": "markdown",
   "metadata": {},
   "source": [
    "Querying the MOCServer using `astroquery.cds` can help us knowing which vizier tables have sources in our intersection MOC. As `astroquery.cds.query_region` returns an `astropy.table.Table`, it is also possible to do some post-filtering on the large amount of tables we might receive."
   ]
  },
  {
   "cell_type": "code",
   "execution_count": null,
   "metadata": {},
   "outputs": [],
   "source": [
    "data_cols = cds.query_region(moc)"
   ]
  },
  {
   "cell_type": "markdown",
   "metadata": {},
   "source": [
    "As the returned object is an `astropy.table.Table`, one can use mask arrays to filter the table. We add constraints to only keep catalogues, with observation in the Infrared, with at least 10,000 rows."
   ]
  },
  {
   "cell_type": "code",
   "execution_count": null,
   "metadata": {},
   "outputs": [],
   "source": [
    "mask = (data_cols['obs_regime'] == 'Infrared') & \\\n",
    "    (data_cols['dataproduct_type'] == 'catalog') & \\\n",
    "    (data_cols['nb_rows'] > 10000) \n",
    "col = data_cols[mask]['obs_id', 'obs_title', 'dataproduct_type', 'cs_service_url', 'nb_rows']\n",
    "col"
   ]
  },
  {
   "cell_type": "markdown",
   "metadata": {},
   "source": [
    "## View in Aladin Lite"
   ]
  },
  {
   "cell_type": "markdown",
   "metadata": {},
   "source": [
    "To finish this tutorial, we will use `ipyaladin` to display in Aladin Lite some MOCs:"
   ]
  },
  {
   "cell_type": "code",
   "execution_count": null,
   "metadata": {},
   "outputs": [],
   "source": [
    "import ipyaladin as ipyal\n",
    "aladin= ipyal.Aladin(target='19 40 +15', fov=5)\n",
    "aladin"
   ]
  },
  {
   "cell_type": "code",
   "execution_count": null,
   "metadata": {},
   "outputs": [],
   "source": [
    "# Add the ISOPHOT and intersection MOCs to the view\n",
    "aladin.add_moc_from_dict(isophot.serialize(format='json'), {\n",
    "     'opacity': 0.5,\n",
    "     'color': \"#e6e600\",\n",
    "})\n",
    "aladin.add_moc_from_dict(moc.serialize(format='json'), {\n",
    "     'opacity': 0.8,\n",
    "     'color': \"#FF0000\",\n",
    "})"
   ]
  },
  {
   "cell_type": "markdown",
   "metadata": {},
   "source": [
    "And we overlay sources from VizieR catalogue `V/114/msx6_s` found in the previous query."
   ]
  },
  {
   "cell_type": "code",
   "execution_count": null,
   "metadata": {},
   "outputs": [],
   "source": [
    "from astroquery.vizier import Vizier\n",
    "\n",
    "v = Vizier(columns=['*', '_RAJ2000', '_DEJ2000'])\n",
    "v.ROW_LIMIT = 2000\n",
    "msx6 = v.get_catalogs('V/114/msx6_s')[0]\n",
    "aladin.add_table(msx6)"
   ]
  },
  {
   "cell_type": "markdown",
   "metadata": {},
   "source": [
    "We can also query directly a catalogue (even a very large one like 2MASS - II/246/out) for sources located inside a MOC:"
   ]
  },
  {
   "cell_type": "code",
   "execution_count": null,
   "metadata": {},
   "outputs": [],
   "source": [
    "twomass = moc.query_vizier_table(table_id='II/246/out')"
   ]
  },
  {
   "cell_type": "markdown",
   "metadata": {},
   "source": [
    "And load it in Aladin Lite"
   ]
  },
  {
   "cell_type": "code",
   "execution_count": null,
   "metadata": {},
   "outputs": [],
   "source": [
    "aladin.add_table(twomass)"
   ]
  }
 ],
 "metadata": {
  "kernelspec": {
   "display_name": "Python 3",
   "language": "python",
   "name": "python3"
  },
  "language_info": {
   "codemirror_mode": {
    "name": "ipython",
    "version": 3
   },
   "file_extension": ".py",
   "mimetype": "text/x-python",
   "name": "python",
   "nbconvert_exporter": "python",
   "pygments_lexer": "ipython3",
   "version": "3.6.7"
  }
 },
 "nbformat": 4,
 "nbformat_minor": 2
}
