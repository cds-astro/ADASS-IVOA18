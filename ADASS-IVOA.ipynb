{
 "cells": [
  {
   "cell_type": "code",
   "execution_count": null,
   "metadata": {},
   "outputs": [],
   "source": [
    "%matplotlib inline\n",
    "\n",
    "import warnings\n",
    "warnings.filterwarnings('ignore')"
   ]
  },
  {
   "cell_type": "markdown",
   "metadata": {},
   "source": [
    "## Retrieve the MOCs of P/SDSS9/color and II/337/vvv1"
   ]
  },
  {
   "cell_type": "code",
   "execution_count": null,
   "metadata": {},
   "outputs": [],
   "source": [
    "from astroquery.cds import cds\n",
    "from mocpy import MOC"
   ]
  },
  {
   "cell_type": "code",
   "execution_count": null,
   "metadata": {
    "scrolled": false
   },
   "outputs": [],
   "source": [
    "sdss9 = cds.find_datasets(\"ID=CDS/P/SDSS9/color\", return_moc=True)\n",
    "vvv1 = cds.find_datasets(\"ID=CDS/II/337/vvv1\", return_moc=True)"
   ]
  },
  {
   "cell_type": "markdown",
   "metadata": {},
   "source": [
    "`sdss9` and `II_337_vvv1` are `mocpy.MOC` objects. One can use them e.g. for computing their intersection. This will give us a new `mocpy.MOC` instance of maximum HEALPix order : $\\max( order_{sdss9}, order_{II/337/vvv1})$"
   ]
  },
  {
   "cell_type": "code",
   "execution_count": null,
   "metadata": {},
   "outputs": [],
   "source": [
    "moc = sdss9.intersection(vvv1)\n",
    "moc.max_order"
   ]
  },
  {
   "cell_type": "markdown",
   "metadata": {},
   "source": [
    "`mocpy.MOC` class has a `fill` method responsible for plotting the HEALPix cells of a MOC on a predefined matplotlib axe. This method accepts an `astropy.wcs.WCS` object along with a `matplotlib.axes.Axes` and some matplotlib style keyword arguments.\n",
    "\n",
    "The next cell of code will define a matplotlib context and use it for drawing the `SDSS9` and `II/337/vvv1` MOCs along with their intersection MOC."
   ]
  },
  {
   "cell_type": "code",
   "execution_count": null,
   "metadata": {},
   "outputs": [],
   "source": [
    "import matplotlib.pyplot as plt\n",
    "from mocpy import WCS\n",
    "import astropy.units as u\n",
    "from astropy.coordinates import SkyCoord, Angle\n",
    "# MOCPy offers a way to easily create an WCS focusing in a specific skycoord with a\n",
    "# FOV. The WCS class embeds internally a astropy.wcs.WCS object\n",
    "# This define an ICRS aitoff projection.\n",
    "fig = plt.figure(111, figsize=(10, 10))\n",
    "with WCS(fig,\n",
    "        fov=40 * u.deg,\n",
    "        center=SkyCoord(270, -20, unit='deg', frame='icrs'),\n",
    "        coordsys=\"icrs\",\n",
    "        rotation=Angle(0, u.degree),\n",
    "        projection=\"AIT\") as wcs:\n",
    "    # Create an mpl axe\n",
    "    ax = fig.add_subplot(1, 1, 1, projection=wcs)\n",
    "\n",
    "    # Calls to `mocpy.MOC.fill` for each of the three MOCs with various mpl styling keywords\n",
    "    # to differentiate them from each other.\n",
    "    sdss9.fill(ax=ax, wcs=wcs, edgecolor='g', facecolor='g', linewidth=1.0, fill=True, alpha=0.5, label='P/SDSS9/color')\n",
    "    vvv1.fill(ax=ax, wcs=wcs, edgecolor='r', facecolor='r', linewidth=1.0, fill=True, alpha=0.5, label='II/337/vvv1')\n",
    "    moc.fill(ax=ax, wcs=wcs, edgecolor='b', facecolor='b', linewidth=1.0, fill=True, alpha=0.5, label='intersection')\n",
    "\n",
    "plt.xlabel('ra')\n",
    "plt.ylabel('dec')\n",
    "plt.title('Intersection of P/SDSS9/color with II/337/vvv1')\n",
    "plt.grid(color=\"black\", linestyle=\"dotted\")\n",
    "plt.legend(loc='upper left')\n",
    "plt.show()\n",
    "plt.close()"
   ]
  },
  {
   "cell_type": "markdown",
   "metadata": {},
   "source": [
    "At this point we have retrieved MOC objects from the MOCServer using `astroquery.cds`. Then we used `mocpy` to compute their intersection which gave us a new MOC.\n",
    "\n",
    "We will use this MOC for filtering a vizier catalog. Querying the MOCServer using `astroquery.cds` can help us knowing which vizier tables have sources in our MOC. As `astroquery.cds.query_region` returns an `astropy.table.Table`, it is also possible to do some post-filtering on the large amount of tables we might receive.\n",
    "\n",
    "------\n",
    "\n",
    "## Retrieve a Vizier Table and filter it through a MOC"
   ]
  },
  {
   "cell_type": "code",
   "execution_count": null,
   "metadata": {
    "scrolled": false
   },
   "outputs": [],
   "source": [
    "data_cols = cds.query_region(moc)"
   ]
  },
  {
   "cell_type": "markdown",
   "metadata": {},
   "source": [
    "As the returned object is an `astropy.table.Table`, one can use mask arrays to filter the table."
   ]
  },
  {
   "cell_type": "code",
   "execution_count": null,
   "metadata": {},
   "outputs": [],
   "source": [
    "mask = (data_cols['obs_regime'] == 'Optical') & \\\n",
    "    (data_cols['dataproduct_type'] == 'catalog') & \\\n",
    "    (data_cols['nb_rows'] < 10000) & (data_cols['nb_rows'] > 9000)\n",
    "col = data_cols[mask]['obs_id', 'obs_title', 'dataproduct_type', 'cs_service_url', 'nb_rows']\n",
    "col"
   ]
  },
  {
   "cell_type": "markdown",
   "metadata": {},
   "source": [
    "Let's retrieve the `J/A+A/376/441/stars` table, filter it through our MOC and plot it to an aladin-lite view using ipyaladin.\n",
    "\n",
    "First, let's use `astroquery.vizier` to get the full table."
   ]
  },
  {
   "cell_type": "code",
   "execution_count": null,
   "metadata": {},
   "outputs": [],
   "source": [
    "J_A_A_376_441_stars_id = (col['obs_id'] == 'J/A+A/376/441/stars')\n",
    "catalog = col[J_A_A_376_441_stars_id]\n",
    "from astroquery.vizier import Vizier\n",
    "\n",
    "v = Vizier(columns=['*', '_RAJ2000', '_DEJ2000'])\n",
    "v.ROW_LIMIT = -1\n",
    "table = v.get_catalogs(catalog['obs_id'])[0]\n",
    "table"
   ]
  },
  {
   "cell_type": "markdown",
   "metadata": {},
   "source": [
    "We can filter this table to keep only the observations lying in the MOC. The sources from the filtered table are added to an aladin lite view along with the MOC."
   ]
  },
  {
   "cell_type": "code",
   "execution_count": null,
   "metadata": {},
   "outputs": [],
   "source": [
    "import ipyaladin as ipyal\n",
    "aladin = ipyal.Aladin(target='17 56 -18 59', fov=15)\n",
    "aladin"
   ]
  },
  {
   "cell_type": "code",
   "execution_count": null,
   "metadata": {},
   "outputs": [],
   "source": [
    "# Add the MOC to the view\n",
    "aladin.add_moc_from_dict(moc.serialize(format='json'), {\n",
    "     'opacity': 0.5,\n",
    "     'color': \"#880000\",\n",
    "})\n",
    "\n",
    "mask = moc.contains(table['_RAJ2000'].data * u.deg, table['_DEJ2000'].data * u.deg)\n",
    "table_f = table[mask]\n",
    "print(table_f)\n",
    "aladin.add_table(table_f)"
   ]
  },
  {
   "cell_type": "markdown",
   "metadata": {},
   "source": [
    "## A new TMOC class in MOCPy for Creating Temporal Multi-Order Coverage Maps\n",
    "\n",
    "A new `TMOC` class allows the user to create, save and manipulate temporal MOCs. This feature has been merged in the master branch of MOCPy the 30th of May.\n",
    "\n",
    "In the following we will retrieve the second table of the vizier catalog ``II/285`` and create an `astropy.time.Time` from its `JD` named column. The method `from_times` creates a TMOC from an `astropy.time.Time` object. We plot the TMOC and print some informations such as the maximum resolution of the TMOC, the first and last date of observation and the total duration of the observations."
   ]
  },
  {
   "cell_type": "code",
   "execution_count": null,
   "metadata": {},
   "outputs": [],
   "source": [
    "from astroquery.vizier import Vizier\n",
    "\n",
    "viz = Vizier(columns=['*', '_RAJ2000', '_DEJ2000'])\n",
    "viz.ROW_LIMIT = -1\n",
    "table = viz.get_catalogs('II/285')[1]\n",
    "\n",
    "print(table)"
   ]
  },
  {
   "cell_type": "code",
   "execution_count": null,
   "metadata": {},
   "outputs": [],
   "source": [
    "from mocpy import TimeMOC\n",
    "from astropy.time import Time\n",
    "\n",
    "table_moc = TimeMOC.from_times(Time(table['JD'], format='jd', scale='tdb'))\n",
    "table_moc.plot(title='2nd table of II/285')\n",
    "\n",
    "# print characteristics such as the time of the first/last observations\n",
    "print('Time of the first observation:', table_moc.min_time.iso)\n",
    "print('Time of the last observation:', table_moc.max_time.iso)\n",
    "# the total duration of the observation times\n",
    "print('Total duration: {0} jd'.format(table_moc.total_duration.jd))\n",
    "# the order of the TimeMoc\n",
    "print('max order:', table_moc.max_order)"
   ]
  }
 ],
 "metadata": {
  "kernelspec": {
   "display_name": "Python 3",
   "language": "python",
   "name": "python3"
  },
  "language_info": {
   "codemirror_mode": {
    "name": "ipython",
    "version": 3
   },
   "file_extension": ".py",
   "mimetype": "text/x-python",
   "name": "python",
   "nbconvert_exporter": "python",
   "pygments_lexer": "ipython3",
   "version": "3.6.7"
  }
 },
 "nbformat": 4,
 "nbformat_minor": 2
}
